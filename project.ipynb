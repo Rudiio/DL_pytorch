{
 "cells": [
  {
   "cell_type": "markdown",
   "metadata": {},
   "source": [
    "# Classifiying Fashion MNIST with Pytorch"
   ]
  },
  {
   "cell_type": "code",
   "execution_count": 513,
   "metadata": {},
   "outputs": [],
   "source": [
    "import torch\n",
    "import torch.nn as nn\n",
    "from torchvision.transforms import transforms,Compose\n",
    "import torchvision.datasets as dsets\n",
    "from torch.utils.data import DataLoader\n",
    "import matplotlib.pyplot as plt\n",
    "import numpy as np"
   ]
  },
  {
   "cell_type": "markdown",
   "metadata": {},
   "source": [
    "## Loading the data"
   ]
  },
  {
   "cell_type": "code",
   "execution_count": 514,
   "metadata": {},
   "outputs": [],
   "source": [
    "IMG_WIDTH = 28\n",
    "IMG_HEIGHT = 28\n",
    "\n",
    "transformations = Compose([transforms.Resize((IMG_WIDTH,IMG_HEIGHT)),transforms.ToTensor()])\n",
    "\n",
    "train_data = dsets.FashionMNIST(root='./fmnist',download=True,train=True,transform=transformations)\n",
    "val_data = dsets.FashionMNIST(root=\"./fmnist\",download=True,train=False,transform=transformations)\n"
   ]
  },
  {
   "cell_type": "code",
   "execution_count": 515,
   "metadata": {},
   "outputs": [],
   "source": [
    "def show_data(data_sample):\n",
    "    plt.imshow(data_sample[0].numpy().reshape(IMG_WIDTH, IMG_WIDTH), cmap='gray')\n",
    "    plt.title('y = '+ str(data_sample[1]))\n",
    "\n",
    "def img_is_color(img):\n",
    "\n",
    "    if len(img.shape) == 3:\n",
    "        # Check the color channels to see if they're all the same.\n",
    "        c1, c2, c3 = img[:, : , 0], img[:, :, 1], img[:, :, 2]\n",
    "        if (c1 == c2).all() and (c2 == c3).all():\n",
    "            return True\n",
    "\n",
    "    return False\n",
    "\n",
    "def show_image_list(list_images, list_titles=None, list_cmaps=None, grid=True, num_cols=2, figsize=(20, 10), title_fontsize=30):\n",
    "    '''\n",
    "    Shows a grid of images, where each image is a Numpy array. The images can be either\n",
    "    RGB or grayscale.\n",
    "\n",
    "    Parameters:\n",
    "    ----------\n",
    "    images: list\n",
    "        List of the images to be displayed.\n",
    "    list_titles: list or None\n",
    "        Optional list of titles to be shown for each image.\n",
    "    list_cmaps: list or None\n",
    "        Optional list of cmap values for each image. If None, then cmap will be\n",
    "        automatically inferred.\n",
    "    grid: boolean\n",
    "        If True, show a grid over each image\n",
    "    num_cols: int\n",
    "        Number of columns to show.\n",
    "    figsize: tuple of width, height\n",
    "        Value to be passed to pyplot.figure()\n",
    "    title_fontsize: int\n",
    "        Value to be passed to set_title().\n",
    "    '''\n",
    "\n",
    "    assert isinstance(list_images, list)\n",
    "    assert len(list_images) > 0\n",
    "    assert isinstance(list_images[0], np.ndarray)\n",
    "\n",
    "    if list_titles is not None:\n",
    "        assert isinstance(list_titles, list)\n",
    "        assert len(list_images) == len(list_titles), '%d imgs != %d titles' % (len(list_images), len(list_titles))\n",
    "\n",
    "    if list_cmaps is not None:\n",
    "        assert isinstance(list_cmaps, list)\n",
    "        assert len(list_images) == len(list_cmaps), '%d imgs != %d cmaps' % (len(list_images), len(list_cmaps))\n",
    "\n",
    "    num_images  = len(list_images)\n",
    "    num_cols    = min(num_images, num_cols)\n",
    "    num_rows    = int(num_images / num_cols) + (1 if num_images % num_cols != 0 else 0)\n",
    "\n",
    "    # Create a grid of subplots.\n",
    "    fig, axes = plt.subplots(num_rows, num_cols, figsize=figsize)\n",
    "    \n",
    "    # Create list of axes for easy iteration.\n",
    "    if isinstance(axes, np.ndarray):\n",
    "        list_axes = list(axes.flat)\n",
    "    else:\n",
    "        list_axes = [axes]\n",
    "\n",
    "    for i in range(num_images):\n",
    "\n",
    "        img    = list_images[i]\n",
    "        title  = list_titles[i] if list_titles is not None else 'Image %d' % (i)\n",
    "        cmap   = list_cmaps[i] if list_cmaps is not None else (None if img_is_color(img) else 'gray')\n",
    "        \n",
    "        list_axes[i].imshow(img, cmap=cmap)\n",
    "        list_axes[i].set_title(title, fontsize=title_fontsize) \n",
    "        list_axes[i].grid(grid)\n",
    "\n",
    "    for i in range(num_images, len(list_axes)):\n",
    "        list_axes[i].set_visible(False)\n",
    "\n",
    "    fig.tight_layout()\n",
    "    _ = plt.show()"
   ]
  },
  {
   "cell_type": "code",
   "execution_count": 516,
   "metadata": {},
   "outputs": [
    {
     "data": {
      "image/png": "[encoded data removed]",
      "text/plain": [
       "<Figure size 432x288 with 1 Axes>"
      ]
     },
     "metadata": {
      "needs_background": "light"
     },
     "output_type": "display_data"
    }
   ],
   "source": [
    "show_data(val_data[0])"
   ]
  },
  {
   "cell_type": "code",
   "execution_count": 517,
   "metadata": {},
   "outputs": [
    {
     "data": {
      "image/png": "[encoded data removed]",
      "text/plain": [
       "<Figure size 432x288 with 1 Axes>"
      ]
     },
     "metadata": {
      "needs_background": "light"
     },
     "output_type": "display_data"
    }
   ],
   "source": [
    "show_data(val_data[1])"
   ]
  },
  {
   "cell_type": "code",
   "execution_count": 518,
   "metadata": {},
   "outputs": [
    {
     "data": {
      "image/png": "[encoded data removed]",
      "text/plain": [
       "<Figure size 432x288 with 1 Axes>"
      ]
     },
     "metadata": {
      "needs_background": "light"
     },
     "output_type": "display_data"
    }
   ],
   "source": [
    "show_data(val_data[2])"
   ]
  },
  {
   "cell_type": "code",
   "execution_count": 519,
   "metadata": {},
   "outputs": [
    {
     "data": {
      "image/png": "[encoded data removed]",
      "text/plain": [
       "<Figure size 1440x720 with 4 Axes>"
      ]
     },
     "metadata": {
      "needs_background": "light"
     },
     "output_type": "display_data"
    }
   ],
   "source": [
    "show_image_list([val_data[0][0].numpy().reshape(IMG_WIDTH, IMG_WIDTH),val_data[1][0].numpy().reshape(IMG_WIDTH, IMG_WIDTH),val_data[2][0].numpy().reshape(IMG_WIDTH, IMG_WIDTH)])"
   ]
  },
  {
   "cell_type": "markdown",
   "metadata": {},
   "source": [
    "## Creating the model\n",
    "\n",
    "Model is a simple CNN.\n",
    "\n",
    "Architecture :\n",
    "- Convolutionnal layer with (5,5) kernel, padding=2 and stride=1\n",
    "- ReLU\n",
    "- Maxpool with (2,2) kernel\n",
    "-  Convolutionnal layer with (5,5) kernel, padding=2 and stride =1\n",
    "- ReLU\n",
    "- Maxpool with (2,2) kernel\n",
    "- fully connected with 32 neurons\n",
    "- fully connected layer with 32 neurons\n",
    "- output layer with 10 neurons\n",
    "\n"
   ]
  },
  {
   "cell_type": "code",
   "execution_count": 520,
   "metadata": {},
   "outputs": [],
   "source": [
    "class CNN(nn.Module):\n",
    "    \"\"\"Simple CNN architecture\"\"\"\n",
    "    def __init__(self,out1=16,out2=32):\n",
    "        super(CNN,self).__init__()\n",
    "\n",
    "        # First convolutionnal layer\n",
    "        self.conv1 = nn.Conv2d(in_channels=1,out_channels=out1,kernel_size=5,padding=2)\n",
    "        self.relu1 = nn.ReLU()  \n",
    "\n",
    "        # First pooling layer\n",
    "        self.pool1 = nn.MaxPool2d(kernel_size=(2,2))\n",
    "\n",
    "        # Second convolutionnal layer\n",
    "        self.conv2 = nn.Conv2d(in_channels=out1,out_channels=out2,kernel_size=5,stride=1,padding=2)\n",
    "        self.relu2 = nn.ReLU()\n",
    "\n",
    "        # second pooling layer\n",
    "        self.pool2 = nn.MaxPool2d(kernel_size=(2,2))\n",
    "        \n",
    "        # Fully connected 1\n",
    "        self.fc1 = nn.Linear(out2*7*7,32)\n",
    "        self.relu3 = nn.ReLU()\n",
    "\n",
    "        # Fully connected 2\n",
    "        self.fc2 = nn.Linear(32,32)\n",
    "        self.relu4 = nn.ReLU()\n",
    "\n",
    "        # Output layer\n",
    "        self.out = nn.Linear(32,10)\n",
    "\n",
    "    def forward(self,x):\n",
    "        # Conv1 + activation\n",
    "        x = self.conv1(x)\n",
    "        x = self.relu1(x)\n",
    "\n",
    "        # Pooling 1\n",
    "        x = self.pool1(x)\n",
    "\n",
    "        # Conv2 + activation\n",
    "        x = self.conv2(x)\n",
    "        x = self.relu2(x)\n",
    "\n",
    "        # Pooling 2\n",
    "        x = self.pool2(x)\n",
    "\n",
    "        # Flattening \n",
    "        # print(x.size())\n",
    "        x = x.view(-1,x.size(1)*7*7)\n",
    "\n",
    "        # Fully connected 1\n",
    "        x = self.fc1(x)\n",
    "        x = self.relu3(x)\n",
    "\n",
    "        # Fully connected 2\n",
    "        x = self.fc2(x)\n",
    "        x = self.relu4(x)\n",
    "\n",
    "        # Output layer\n",
    "        x = self.out(x)\n",
    "\n",
    "        return x\n",
    "        \n",
    "        "
   ]
  },
  {
   "cell_type": "markdown",
   "metadata": {},
   "source": [
    "## Training the model"
   ]
  },
  {
   "cell_type": "code",
   "execution_count": 521,
   "metadata": {},
   "outputs": [],
   "source": [
    "def train(model,optimizer,criterion,trainloader,valloader,epochs=4):\n",
    "\n",
    "    N_test=len(valloader)\n",
    "    accuracy_list=[]\n",
    "    loss_list=[]\n",
    "    cost=0\n",
    "    for epoch in range(epochs):\n",
    "        print(f\"epoch {epoch} \")\n",
    "        cost=0\n",
    "        for x,y in trainloader:\n",
    "            optimizer.zero_grad()\n",
    "            yhat = model(x)\n",
    "            loss = criterion(yhat,y)\n",
    "            loss.backward()\n",
    "            optimizer.step()\n",
    "            cost +=loss.data\n",
    "\n",
    "        loss_list.append(cost)    \n",
    "        correct=0\n",
    "        \n",
    "        ## Evaluate the model\n",
    "        #perform a prediction on the validation  data  \n",
    "        for x_test, y_test in valloader:\n",
    "            model.eval()\n",
    "            z = model(x_test)\n",
    "            _, yhat = torch.max(z.data, 1)\n",
    "            correct += (yhat == y_test).sum().item()\n",
    "        accuracy = correct / N_test\n",
    "        accuracy_list.append(accuracy)\n",
    "    \n",
    "    return accuracy_list,loss_list\n",
    "    "
   ]
  },
  {
   "cell_type": "code",
   "execution_count": 522,
   "metadata": {},
   "outputs": [
    {
     "name": "stdout",
     "output_type": "stream",
     "text": [
      "epoch 0 \n",
      "epoch 1 \n",
      "epoch 2 \n"
     ]
    }
   ],
   "source": [
    "model = CNN()\n",
    "lr = 0.01\n",
    "criterion = nn.CrossEntropyLoss()\n",
    "optimizer = torch.optim.Adam(model.parameters(),lr=lr)\n",
    "\n",
    "train_loader = DataLoader(dataset=train_data,batch_size=100)\n",
    "val_loader = DataLoader(dataset=val_data,batch_size=100)\n",
    "\n",
    "accuracy, loss = train(model,optimizer,criterion,train_loader,val_loader,epochs=3)"
   ]
  },
  {
   "cell_type": "code",
   "execution_count": 523,
   "metadata": {},
   "outputs": [
    {
     "data": {
      "image/png": "[encoded data removed]",
      "text/plain": [
       "<Figure size 432x288 with 2 Axes>"
      ]
     },
     "metadata": {
      "needs_background": "light"
     },
     "output_type": "display_data"
    }
   ],
   "source": [
    "fig, ax1 = plt.subplots()\n",
    "color = 'tab:red'\n",
    "ax1.plot(loss, color=color)\n",
    "ax1.set_xlabel('epoch', color=color)\n",
    "ax1.set_ylabel('Cost', color=color)\n",
    "ax1.tick_params(axis='y', color=color)\n",
    "    \n",
    "ax2 = ax1.twinx()  \n",
    "color = 'tab:blue'\n",
    "ax2.set_ylabel('accuracy', color=color) \n",
    "ax2.set_xlabel('epoch', color=color)\n",
    "ax2.plot( accuracy, color=color)\n",
    "ax2.tick_params(axis='y', color=color)\n",
    "fig.tight_layout()"
   ]
  },
  {
   "cell_type": "code",
   "execution_count": 524,
   "metadata": {},
   "outputs": [],
   "source": [
    "torch.save(model,\"CNN.pt\")"
   ]
  }
 ],
 "metadata": {
  "kernelspec": {
   "display_name": "Python 3",
   "language": "python",
   "name": "python3"
  },
  "language_info": {
   "codemirror_mode": {
    "name": "ipython",
    "version": 3
   },
   "file_extension": ".py",
   "mimetype": "text/x-python",
   "name": "python",
   "nbconvert_exporter": "python",
   "pygments_lexer": "ipython3",
   "version": "3.10.12"
  }
 },
 "nbformat": 4,
 "nbformat_minor": 2
}
